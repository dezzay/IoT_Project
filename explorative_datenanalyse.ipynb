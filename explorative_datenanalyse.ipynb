{
 "cells": [
  {
   "cell_type": "markdown",
   "metadata": {},
   "source": [
    "# Imports"
   ]
  },
  {
   "cell_type": "code",
   "execution_count": null,
   "metadata": {},
   "outputs": [],
   "source": [
    "import pandas as pd\n",
    "import numpy as np\n",
    "import plotly.graph_objects as go\n",
    "from scipy.stats import zscore\n",
    "from sklearn.ensemble import IsolationForest"
   ]
  },
  {
   "cell_type": "markdown",
   "metadata": {},
   "source": [
    "# 1. Load Data"
   ]
  },
  {
   "cell_type": "code",
   "execution_count": null,
   "metadata": {},
   "outputs": [],
   "source": [
    "df = pd.read_csv(r'Dashboard\\E-Building-Data.csv',parse_dates=['date_time'])"
   ]
  },
  {
   "cell_type": "code",
   "execution_count": null,
   "metadata": {},
   "outputs": [],
   "source": [
    "df.head()"
   ]
  },
  {
   "cell_type": "markdown",
   "metadata": {},
   "source": [
    "## Attributsbeschreibung\n",
    "\n",
    "date_time := Datum (Format: YYYY-MM-DD HH:MM:SS)\\\n",
    "device_id := CO2-Ampel-ID\\\n",
    "tmp := Durchschnittliche Temperatur\\\n",
    "hum := Durchschnittliche Luftfeuchtigkeit\\\n",
    "CO2 := Durchschnittlicher CO2-Wert\\\n",
    "VOC := Durchschnittliche Schadstoffbelastung\\\n",
    "vis := Durchschnittlicher Lichtwert\\\n",
    "IR := Durchschnittlicher Infrarotwert\\\n",
    "WIFI := Durchschnittliche Anzahl an WiFi-Geräten\\\n",
    "BLE := Durchschnittliche Anzahl an Bluetoothgeräten\\\n",
    "rssi := received signal strength indication, Empfangsfeldstärke kabelloser Kommunikationsanwendungen\\\n",
    "channel_rssi := Gesamtstärke des ganzen Empfangs\\\n",
    "snr := Signal-Rausch-Verhältnis\\\n",
    "gateway := Genutztes Gateway für die Übertragung des Datenpunktes\\\n",
    "channel_index :=\\\n",
    "spreading_factor :=\\\n",
    "bandwidth := Bandbreite ist das Maß für die in einer bestimmten Zeiteinheit über ein Medium übertragene Datenmenge\\\n",
    "f_cnt :=\n"
   ]
  },
  {
   "cell_type": "markdown",
   "metadata": {},
   "source": [
    "# 2. Functions"
   ]
  },
  {
   "cell_type": "code",
   "execution_count": null,
   "metadata": {},
   "outputs": [],
   "source": [
    "def detect_and_remove_outliers(dataframe):\n",
    "    data = dataframe.copy()\n",
    "    isoforest = IsolationForest(n_estimators = 100, contamination = 0.0075, max_samples = int(data.shape[0]*0.8))\n",
    "    #Isolation Forest auf den wichtigsten numerischen Werten durchführen (CO2, tmp, vis, hum und VOC).\n",
    "    prediction = isoforest.fit_predict(data[[\"CO2\", \"tmp\", \"vis\", \"hum\", \"VOC\"]])\n",
    "    print(\"Number of outliers detected: {}\".format(prediction[prediction < 0].sum()))\n",
    "    print(\"Number of normal samples detected: {}\".format(prediction[prediction >= 0].sum()))\n",
    "    score = isoforest.decision_function(data[[\"CO2\", \"tmp\", \"vis\", \"hum\", \"VOC\"]])\n",
    "    data[\"anomaly_score\"] = score\n",
    "    #Zeilen mit anomaly_score < 0 werden vom Isolation Forest als Ausreißer interpretiert.\n",
    "    data = data[data.anomaly_score >= 0]\n",
    "    return data"
   ]
  },
  {
   "cell_type": "code",
   "execution_count": null,
   "metadata": {},
   "outputs": [],
   "source": [
    "def remove_outliers(dataframes, col, return_outliers=False):\n",
    "    q1 = dataframes[col].quantile(0.25)\n",
    "    q3 = dataframes[col].quantile(0.75)\n",
    "    iqr = q3 - q1\n",
    "    lower_limit = q1 - (1.5 * iqr)\n",
    "    upper_limit = q3 + (1.5 * iqr)\n",
    "\n",
    "    if return_outliers:\n",
    "        # Correct condition to capture outliers\n",
    "        outliers = dataframes[(dataframes[col] < lower_limit) | (dataframes[col] > upper_limit)]\n",
    "        return outliers\n",
    "    else:\n",
    "        # Correct condition to filter out outliers\n",
    "        filtered = dataframes[(dataframes[col] >= lower_limit) & (dataframes[col] <= upper_limit)]\n",
    "        return filtered"
   ]
  },
  {
   "cell_type": "code",
   "execution_count": null,
   "metadata": {},
   "outputs": [],
   "source": [
    "def extract_etage(dataframe):\n",
    "    dataframe['Etage'] = 'Etage ' + dataframe['room_number'].str[1]\n",
    "    return dataframe"
   ]
  },
  {
   "cell_type": "code",
   "execution_count": null,
   "metadata": {},
   "outputs": [],
   "source": [
    "def count_outliers(data, col):\n",
    "\n",
    "    q1 = data[col].quantile(0.25)\n",
    "    q3 = data[col].quantile(0.75)\n",
    "    iqr = q3 - q1\n",
    "\n",
    "    lower_boundary = q1 - 1.5*iqr\n",
    "    upper_boundary = q3 + 1.5*iqr\n",
    "\n",
    "    number_of_outliers = len(data.loc[(data[col] > upper_boundary) | (data[col] < lower_boundary)])\n",
    "\n",
    "    return number_of_outliers"
   ]
  },
  {
   "cell_type": "code",
   "execution_count": null,
   "metadata": {},
   "outputs": [],
   "source": [
    "def resample_dataframes(dataframe:pd.DataFrame,resampling_freq:str,resampling_type:str = 'mean',verteilung=False):\n",
    "    data = dataframe.copy()\n",
    "    if verteilung:\n",
    "        data['date_time'] = data['date_time'].dt.weekday\n",
    "        data = data.groupby('date_time').mean()\n",
    "        return data\n",
    "\n",
    "    elif resampling_type == 'min':\n",
    "        data = data.set_index('date_time').resample(resampling_freq).min().reset_index()\n",
    "    elif resampling_type == 'max':\n",
    "        data = data.set_index('date_time').resample(resampling_freq).max().reset_index()\n",
    "    elif resampling_type == 'mean':\n",
    "        data = data.set_index('date_time').resample(resampling_freq).mean().reset_index()\n",
    "    return data"
   ]
  },
  {
   "cell_type": "markdown",
   "metadata": {},
   "source": [
    "# 3. Datentypen"
   ]
  },
  {
   "cell_type": "code",
   "execution_count": null,
   "metadata": {},
   "outputs": [],
   "source": [
    "df.dtypes"
   ]
  },
  {
   "cell_type": "code",
   "execution_count": null,
   "metadata": {},
   "outputs": [],
   "source": [
    "df = df.astype({\n",
    "            'snr':'float64',\n",
    "                                            })"
   ]
  },
  {
   "cell_type": "code",
   "execution_count": null,
   "metadata": {},
   "outputs": [],
   "source": [
    "df.dtypes"
   ]
  },
  {
   "cell_type": "markdown",
   "metadata": {},
   "source": [
    "# 4. Preprocessing"
   ]
  },
  {
   "cell_type": "code",
   "execution_count": null,
   "metadata": {},
   "outputs": [],
   "source": [
    "features = ['date_time', 'CO2', 'VOC', 'hum', 'tmp', 'vis', 'IR', 'WIFI', 'BLE']"
   ]
  },
  {
   "cell_type": "code",
   "execution_count": null,
   "metadata": {},
   "outputs": [],
   "source": [
    "df.loc[:, \"room_number\"] = df[\"device_id\"].str.split(\"-\").str[-1]\n",
    "df.drop(\"device_id\", inplace=True, axis=1)\n",
    "df = extract_etage(df)"
   ]
  },
  {
   "cell_type": "code",
   "execution_count": null,
   "metadata": {},
   "outputs": [],
   "source": [
    "df.loc[:, \"year\"] = df[\"date_time\"].dt.year\n",
    "df.loc[:, \"month\"] = df[\"date_time\"].dt.month\n",
    "df.loc[:, \"dayofweek\"] = df[\"date_time\"].dt.dayofweek\n",
    "df.loc[:, \"hour\"] = df[\"date_time\"].dt.hour"
   ]
  },
  {
   "cell_type": "code",
   "execution_count": null,
   "metadata": {},
   "outputs": [],
   "source": [
    "dfe001_with_outliers = df[df[\"room_number\"] == \"e001\"].copy()\n",
    "dfe001_with_outliers = resample_dataframes(dfe001_with_outliers[features], \"h\")\n",
    "fig = go.Figure()\n",
    "\n",
    "fig.add_trace(go.Scatter(\n",
    "    x=dfe001_with_outliers.date_time,\n",
    "    y=dfe001_with_outliers.tmp,\n",
    "    name='Temperatur',\n",
    "    marker_color='#64378C'\n",
    "))\n",
    "fig.update_layout(\n",
    "    title='Temperatur vor dem IsolationForest für E001',\n",
    "    xaxis_title='Datum',\n",
    "    yaxis_title='Temperatur',\n",
    "    showlegend=True\n",
    ")\n",
    "fig.show()"
   ]
  },
  {
   "cell_type": "code",
   "execution_count": null,
   "metadata": {},
   "outputs": [],
   "source": [
    "dfe001_iso = detect_and_remove_outliers(df)"
   ]
  },
  {
   "cell_type": "code",
   "execution_count": null,
   "metadata": {},
   "outputs": [],
   "source": [
    "df_anomalie_detected = dfe001_iso[dfe001_iso[\"room_number\"] == \"e001\"].copy()\n",
    "df_anomalie_detected = resample_dataframes(df_anomalie_detected[features], \"h\")\n",
    "fig = go.Figure()\n",
    "\n",
    "fig.add_trace(go.Scatter(\n",
    "    x=df_anomalie_detected.date_time,\n",
    "    y=df_anomalie_detected.tmp,\n",
    "    name='Temperatur',\n",
    "    marker_color='#64378C',\n",
    "))\n",
    "\n",
    "fig.update_layout(\n",
    "    title='Temperatur nach dem IsolationForest für E001',\n",
    "    xaxis_title='Datum',\n",
    "    yaxis_title='Temperatur',\n",
    "    showlegend=True\n",
    ")\n",
    "fig.show()"
   ]
  },
  {
   "cell_type": "markdown",
   "metadata": {},
   "source": [
    "# 5. Anomalies"
   ]
  },
  {
   "cell_type": "code",
   "execution_count": null,
   "metadata": {},
   "outputs": [],
   "source": [
    "unique_rooms = df['room_number'].unique()\n",
    "\n",
    "\n",
    "anomalies_summary_df = []\n",
    "\n",
    "\n",
    "for room in unique_rooms:\n",
    "    room_data = df[df['room_number'] == room].copy()\n",
    "    \n",
    "    # Calculate Z-scores for temperature, humidity, CO2, and VOC levels\n",
    "    room_data['tmp_zscore'] = zscore(room_data['tmp'])\n",
    "    room_data['hum_zscore'] = zscore(room_data['hum'])\n",
    "    room_data['CO2_zscore'] = zscore(room_data['CO2'])\n",
    "    room_data['VOC_zscore'] = zscore(room_data['VOC'])\n",
    "    \n",
    "    \n",
    "    threshold = 3\n",
    "    \n",
    "   \n",
    "    room_data['tmp_anomaly'] = room_data['tmp_zscore'].abs() > threshold\n",
    "    room_data['hum_anomaly'] = room_data['hum_zscore'].abs() > threshold\n",
    "    room_data['CO2_anomaly'] = room_data['CO2_zscore'].abs() > threshold\n",
    "    room_data['VOC_anomaly'] = room_data['VOC_zscore'].abs() > threshold\n",
    "    \n",
    "    \n",
    "    anomalies_summary = {\n",
    "        'room_number': room,\n",
    "        'tmp_anomaly': room_data['tmp_anomaly'].sum(),\n",
    "        'hum_anomaly': room_data['hum_anomaly'].sum(),\n",
    "        'CO2_anomaly': room_data['CO2_anomaly'].sum(),\n",
    "        'VOC_anomaly': room_data['VOC_anomaly'].sum()\n",
    "    }\n",
    "    \n",
    "    \n",
    "    anomalies_summary_df.append(anomalies_summary)\n",
    "\n",
    "anomalies = pd.DataFrame.from_dict(anomalies_summary_df)"
   ]
  },
  {
   "cell_type": "code",
   "execution_count": null,
   "metadata": {},
   "outputs": [],
   "source": [
    "room_counts = df['room_number'].value_counts().reset_index()\n",
    "room_counts.columns = ['room_number', 'count']\n",
    "\n",
    "\n",
    "anomalies = anomalies.merge(room_counts, on='room_number')\n",
    "\n",
    "# Calculate the anomaly rate\n",
    "anomalies['anomaly_rate'] = (\n",
    "    anomalies['tmp_anomaly'] +\n",
    "    anomalies['hum_anomaly'] +\n",
    "    anomalies['CO2_anomaly'] +\n",
    "    anomalies['VOC_anomaly']\n",
    ") / anomalies['count'].round(4)\n",
    "\n",
    "anomalies['anomaly_count'] = (\n",
    "    anomalies['tmp_anomaly'] +\n",
    "    anomalies['hum_anomaly'] +\n",
    "    anomalies['CO2_anomaly'] +\n",
    "    anomalies['VOC_anomaly'] )\n",
    "\n",
    "\n",
    "anomalies.sort_values(by=\"anomaly_rate\", ascending=False)"
   ]
  },
  {
   "cell_type": "code",
   "execution_count": null,
   "metadata": {},
   "outputs": [],
   "source": [
    "anomalies.sort_values(by=\"anomaly_rate\", ascending=False, inplace=True)\n",
    "\n",
    "fig = go.Figure()\n",
    "\n",
    "fig.add_trace(go.Bar(\n",
    "    x=anomalies.room_number,\n",
    "    y=anomalies.anomaly_rate,\n",
    "    name='Anomalierate',\n",
    "    marker_color='#64378C',\n",
    "\n",
    "))\n",
    "\n",
    "fig.update_layout(\n",
    "    title='Anomalierate pro Raum',\n",
    "    xaxis_title='Raum',\n",
    "    yaxis_title='Anomalierate',\n",
    "    showlegend=True\n",
    ")\n",
    "\n",
    "fig.show()"
   ]
  },
  {
   "cell_type": "code",
   "execution_count": null,
   "metadata": {},
   "outputs": [],
   "source": [
    "anomalies.sort_values(by=\"anomaly_count\", ascending=False, inplace=True)\n",
    "fig = go.Figure()\n",
    "fig.add_bar(x=anomalies.room_number,y=anomalies.VOC_anomaly, name=\"VOC anomalies\")\n",
    "fig.add_bar(x=anomalies.room_number,y=anomalies.CO2_anomaly, name=\"CO2_anomalies\")\n",
    "fig.add_bar(x=anomalies.room_number,y=anomalies.anomaly_count, name=\"anomalies\")\n",
    "fig.update_layout(barmode=\"group\")\n",
    "fig.update_layout(\n",
    "    title='Anomalien mit den größten Anteilen',\n",
    "    xaxis_title='Raum',\n",
    "    yaxis_title='Anomalien',\n",
    "    showlegend=True\n",
    ")\n",
    "fig.show()"
   ]
  },
  {
   "cell_type": "markdown",
   "metadata": {},
   "source": [
    "### CO2-Ampel Feature"
   ]
  },
  {
   "cell_type": "code",
   "execution_count": null,
   "metadata": {},
   "outputs": [],
   "source": [
    "# Farben der CO2-Ampeln laut der Quelle https://www.h-ka.de/fileadmin/Hochschule_Karlsruhe_HKA/Bilder_VW-EBI/HKA_VW-EBI_Anleitung_CO2-Ampeln.pdf\n",
    "df.loc[(df.CO2 < 850), \"color\"] = \"green\"\n",
    "df.loc[(df.CO2 >= 850) & (df.CO2 < 1200), \"color\"] = \"yellow\"\n",
    "df.loc[(df.CO2 >= 1200) & (df.CO2 < 1600), \"color\"] = \"red\"\n",
    "df.loc[(df.CO2 >= 1600), \"color\"] = \"red_blinking\""
   ]
  },
  {
   "cell_type": "code",
   "execution_count": null,
   "metadata": {},
   "outputs": [],
   "source": [
    "df_ampel = df.sort_values(by=\"room_number\")[[\"room_number\",\"CO2\", \"color\"]]\n",
    "df_ampel = df_ampel.merge(room_counts, on='room_number')\n",
    "df_ampel = df_ampel.groupby(['room_number', 'color']).size().unstack(fill_value=0).reset_index()"
   ]
  },
  {
   "cell_type": "code",
   "execution_count": null,
   "metadata": {},
   "outputs": [],
   "source": [
    "df_ampel[\"count\"] = df_ampel[\"green\"] + df_ampel[\"red\"] + df_ampel[\"red_blinking\"] + df_ampel[\"yellow\"]"
   ]
  },
  {
   "cell_type": "code",
   "execution_count": null,
   "metadata": {},
   "outputs": [],
   "source": [
    "df_ampel[\"red_blinking_rate\"] = df_ampel[\"red_blinking\"] / df_ampel[\"count\"]\n",
    "df_ampel[\"red_rate\"] =  df_ampel[\"red\"] / df_ampel[\"count\"]\n",
    "df_ampel[\"red_yellow_rate\"] =  df_ampel[\"yellow\"] / df_ampel[\"count\"]"
   ]
  },
  {
   "cell_type": "code",
   "execution_count": null,
   "metadata": {},
   "outputs": [],
   "source": [
    "df_ampel.sort_values(by=\"red_yellow_rate\", ascending=False, inplace=True)"
   ]
  },
  {
   "cell_type": "code",
   "execution_count": null,
   "metadata": {},
   "outputs": [],
   "source": [
    "fig = go.Figure()\n",
    "fig.add_trace(go.Bar(x=df_ampel.room_number,y=df_ampel.red_yellow_rate, name=\"yellow\", marker_color=\"orange\"))\n",
    "fig.add_trace(go.Bar(x=df_ampel.room_number,y=df_ampel.red_rate, name=\"red\", marker_color=\"red\"))\n",
    "fig.add_trace(go.Bar(x=df_ampel.room_number,y=df_ampel.red_blinking_rate, name=\"red_blinking\", marker_color=\"black\"))\n",
    "fig.update_layout(barmode=\"stack\")\n",
    "fig.update_layout(\n",
    "    title='Räume nach Ampelfarbe \"gelb\" sortiert',\n",
    "    xaxis_title='Raum',\n",
    "    yaxis_title='Rate',\n",
    "    showlegend=True,\n",
    "    \n",
    ")\n",
    "fig.show()"
   ]
  },
  {
   "cell_type": "markdown",
   "metadata": {},
   "source": [
    "# 6. Statistische Werte"
   ]
  },
  {
   "cell_type": "markdown",
   "metadata": {},
   "source": [
    "## Beobachtungen\n",
    "bandwith hat konstant die gleichen Werte"
   ]
  },
  {
   "cell_type": "code",
   "execution_count": null,
   "metadata": {},
   "outputs": [],
   "source": [
    "df.describe()"
   ]
  },
  {
   "cell_type": "code",
   "execution_count": null,
   "metadata": {},
   "outputs": [],
   "source": [
    "df.isna().sum()"
   ]
  },
  {
   "cell_type": "markdown",
   "metadata": {},
   "source": [
    "# 7. Correlation"
   ]
  },
  {
   "cell_type": "code",
   "execution_count": null,
   "metadata": {},
   "outputs": [],
   "source": [
    "import plotly.graph_objects as go\n",
    "import pandas as pd\n",
    "\n",
    "# Assuming datatypes_changed_df is already defined\n",
    "df_correlation = df.select_dtypes(include='number').iloc[:,:8].corr()\n",
    "\n",
    "# Create the heatmap\n",
    "heatmap = go.Heatmap(\n",
    "    z=df_correlation.values,\n",
    "    x=df_correlation.columns,  # x-axis labels\n",
    "    y=df_correlation.index,    # y-axis labels\n",
    "    colorscale='RdBu',         # similar to 'coolwarm' in seaborn\n",
    "    zmin=-1,                   # equivalent to vmin\n",
    "    zmax=1,                    # equivalent to vmax\n",
    "    colorbar=dict(\n",
    "        title='Korrelationskoeffizient',\n",
    "        titleside='right',\n",
    "        titlefont=dict(size=25),  # Increase title font size\n",
    "        tickfont=dict(size=25)    # Increase tick font size\n",
    "    ),\n",
    "    showscale=True\n",
    ")\n",
    "\n",
    "# Add annotations\n",
    "annotations = []\n",
    "for i in range(df_correlation.shape[0]):\n",
    "    for j in range(df_correlation.shape[1]):\n",
    "        annotations.append(\n",
    "            go.layout.Annotation(\n",
    "                text=f\"{df_correlation.iloc[i, j]:.2f}\",\n",
    "                x=df_correlation.columns[j],\n",
    "                y=df_correlation.index[i],\n",
    "                xref='x1',\n",
    "                yref='y1',\n",
    "                showarrow=False,\n",
    "                font=dict(size=30, color=\"black\", weight='bold')\n",
    "            )\n",
    "        )\n",
    "\n",
    "# Customize the layout\n",
    "layout = go.Layout(\n",
    "    xaxis=dict(\n",
    "        ticks='',\n",
    "        side='top',\n",
    "        title_font=dict(size=20),  # Increase x-axis label size\n",
    "        tickfont=dict(size=25)     # Increase x-axis tick label size\n",
    "    ),\n",
    "    yaxis=dict(\n",
    "        ticks='',\n",
    "        title_font=dict(size=20),  # Increase y-axis label size\n",
    "        tickfont=dict(size=25)     # Increase y-axis tick label size\n",
    "    ),\n",
    "    width=1200,\n",
    "    height=1000,\n",
    "    annotations=annotations\n",
    ")\n",
    "\n",
    "# Create the figure\n",
    "fig = go.Figure(data=[heatmap], layout=layout)\n",
    "\n",
    "# Display the heatmap\n",
    "fig.show()\n"
   ]
  },
  {
   "cell_type": "markdown",
   "metadata": {},
   "source": [
    "# 8. Anzahl der Datenpunkte pro Raum"
   ]
  },
  {
   "cell_type": "code",
   "execution_count": null,
   "metadata": {},
   "outputs": [],
   "source": [
    "room_value_counts = df.groupby('room_number').count()[['date_time']].sort_values(by='date_time',ascending=False).copy()"
   ]
  },
  {
   "cell_type": "code",
   "execution_count": null,
   "metadata": {},
   "outputs": [],
   "source": [
    "room_value_counts.rename(columns={'date_time':'datapoints'}, inplace=True)"
   ]
  },
  {
   "cell_type": "code",
   "execution_count": null,
   "metadata": {},
   "outputs": [],
   "source": [
    "room_value_counts"
   ]
  },
  {
   "cell_type": "code",
   "execution_count": null,
   "metadata": {},
   "outputs": [],
   "source": [
    "# room_value_counts.to_csv(r'Dashboard\\room_value_counts.csv')"
   ]
  },
  {
   "cell_type": "code",
   "execution_count": null,
   "metadata": {},
   "outputs": [],
   "source": [
    "# test = pd.read_csv(r'Dashboard\\room_value_counts.csv',index_col='room_number')\n",
    "# test"
   ]
  },
  {
   "cell_type": "code",
   "execution_count": null,
   "metadata": {},
   "outputs": [],
   "source": [
    "\n",
    "# Convert the dictionary to two lists for plotting\n",
    "x_values = list(room_value_counts.index)\n",
    "y_values = list(room_value_counts['datapoints'])\n",
    "\n",
    "# Create the bar chart\n",
    "fig = go.Figure()\n",
    "\n",
    "fig.add_trace(go.Bar(\n",
    "    x=x_values,\n",
    "    y=y_values,\n",
    "    text=y_values,               # Text to display on the bars\n",
    "    textposition='outside',          # Position the text on top of the bars\n",
    "    marker_color='#64378C',\n",
    "    textfont=dict(\n",
    "        family='Arial',      # Font family\n",
    "        size=15,             # Font size\n",
    "        color='black',       # Font color\n",
    "        weight='bold'        # Font weight (bold)\n",
    "    )\n",
    "))\n",
    "# Customize the layout\n",
    "fig.update_layout(\n",
    "    title='Anzahl der Datenpunkte pro Raum',\n",
    "    xaxis_title='Raum',\n",
    "    yaxis_title='Anzahl',\n",
    "    yaxis=dict(\n",
    "        range=[0, 150000] \n",
    "    ) \n",
    ")\n",
    "\n",
    "\n",
    "\n",
    "# Display the bar chart\n",
    "fig.show()\n"
   ]
  },
  {
   "cell_type": "markdown",
   "metadata": {},
   "source": [
    "# 9. Ausreißererkennung"
   ]
  },
  {
   "cell_type": "code",
   "execution_count": null,
   "metadata": {},
   "outputs": [],
   "source": [
    "df_filtered = df[features].copy()\n",
    "\n",
    "for col in features:\n",
    "    df_filtered = remove_outliers(df_filtered,col,True)\n",
    "df_filtered\n"
   ]
  },
  {
   "cell_type": "markdown",
   "metadata": {},
   "source": [
    "## Ausreißer"
   ]
  },
  {
   "cell_type": "code",
   "execution_count": null,
   "metadata": {},
   "outputs": [],
   "source": [
    "# Ausreißererkennung mit einem Isolation Forest\n",
    "df_iso_outliers = detect_and_remove_outliers(df)\n"
   ]
  },
  {
   "cell_type": "code",
   "execution_count": null,
   "metadata": {},
   "outputs": [],
   "source": [
    "# Ausreißererkennung mit IQR\n",
    "df_iqr_outliers = df.copy()\n",
    "for col in features:\n",
    "    df_iqr_outliers = remove_outliers(df_iqr_outliers,col)"
   ]
  },
  {
   "cell_type": "code",
   "execution_count": null,
   "metadata": {},
   "outputs": [],
   "source": [
    "features"
   ]
  },
  {
   "cell_type": "code",
   "execution_count": null,
   "metadata": {},
   "outputs": [],
   "source": [
    "# df_iso_outliers[['date_time', 'CO2', 'VOC', 'hum', 'tmp', 'vis', 'IR', 'room_number','Etage']].to_csv(r'Dashboard\\iso_outliers.csv',index=False)"
   ]
  },
  {
   "cell_type": "code",
   "execution_count": null,
   "metadata": {},
   "outputs": [],
   "source": [
    "df_verteilung_iso = resample_dataframes(df_iso_outliers[features], 'h', verteilung=True)\n",
    "df_verteilung_iqr = resample_dataframes(df_iqr_outliers[features], 'h', verteilung=True)"
   ]
  },
  {
   "cell_type": "code",
   "execution_count": null,
   "metadata": {},
   "outputs": [],
   "source": [
    "df_verteilung_iso"
   ]
  },
  {
   "cell_type": "code",
   "execution_count": null,
   "metadata": {},
   "outputs": [],
   "source": [
    "df_verteilung_iqr"
   ]
  },
  {
   "cell_type": "code",
   "execution_count": null,
   "metadata": {},
   "outputs": [],
   "source": [
    "df_e001_iso = df_iso_outliers[df_iso_outliers['room_number'] == 'e001'].copy()\n",
    "df_e001_iqr = df_iqr_outliers[df_iqr_outliers['room_number'] == 'e001'].copy()\n",
    "df_e001_verteilung_iso = resample_dataframes(df_e001_iso[features], 'h', True)\n",
    "df_e001_verteilung_iqr = resample_dataframes(df_e001_iqr[features], 'h', True)"
   ]
  },
  {
   "cell_type": "code",
   "execution_count": null,
   "metadata": {},
   "outputs": [],
   "source": [
    "import plotly.graph_objects as go\n",
    "from plotly.subplots import make_subplots\n",
    "df_plot = df_e001_verteilung_iso.copy()\n",
    "fig = make_subplots(\n",
    "        rows=2, cols=3, \n",
    "        subplot_titles=[\n",
    "            \"CO2 over time\", \n",
    "            \"VOC over time\", \n",
    "            \"Temperature over time\", \n",
    "            \"Humidity over time\", \n",
    "            \"Visible Light over time\", \n",
    "            \"Infrared over time\"\n",
    "        ]\n",
    "    )\n",
    "\n",
    "# Define data columns and subplot positions\n",
    "plots_info = [\n",
    "    ('CO2', 1, 3), \n",
    "    ('VOC', 2, 1), \n",
    "    ('tmp', 1, 1), \n",
    "    ('hum', 1, 2), \n",
    "    ('vis', 2, 2), \n",
    "    ('IR', 2, 3)\n",
    "]\n",
    "\n",
    "# Add traces and update axes\n",
    "for col, row, col_num in plots_info:\n",
    "    fig.add_trace(\n",
    "        go.Scatter(x=df_plot.index, y=df_plot[col], mode='lines', name=col),\n",
    "        row=row, col=col_num\n",
    "    )\n",
    "    fig.update_xaxes(title_text=\"Weekday\",  row=row, col=col_num,dtick=1)\n",
    "    fig.update_yaxes(title_text=\"Value\", row=row, col=col_num)\n",
    "\n",
    "# Update layout\n",
    "fig.update_layout(height=800, width=1400, title_text=\"Isolation Forest - Durchschnittliche Verteilung der Werte pro Wochentag Raum E001\", showlegend=False)\n",
    "fig.show()"
   ]
  },
  {
   "cell_type": "code",
   "execution_count": null,
   "metadata": {},
   "outputs": [],
   "source": [
    "import plotly.graph_objects as go\n",
    "from plotly.subplots import make_subplots\n",
    "\n",
    "df_plot = df_e001_verteilung_iqr.copy()\n",
    "fig = make_subplots(\n",
    "        rows=2, cols=3, \n",
    "        subplot_titles=[\n",
    "            \"CO2 over time\", \n",
    "            \"VOC over time\", \n",
    "            \"Temperature over time\", \n",
    "            \"Humidity over time\", \n",
    "            \"Visible Light over time\", \n",
    "            \"Infrared over time\"\n",
    "        ]\n",
    "    )\n",
    "\n",
    "# Define data columns and subplot positions\n",
    "plots_info = [\n",
    "    ('CO2', 1, 3), \n",
    "    ('VOC', 2, 1), \n",
    "    ('tmp', 1, 1), \n",
    "    ('hum', 1, 2), \n",
    "    ('vis', 2, 2), \n",
    "    ('IR', 2, 3)\n",
    "]\n",
    "\n",
    "# Add traces and update axes\n",
    "for col, row, col_num in plots_info:\n",
    "    fig.add_trace(\n",
    "        go.Scatter(x=df_plot.index, y=df_plot[col], mode='lines', name=col),\n",
    "        row=row, col=col_num\n",
    "    )\n",
    "    fig.update_xaxes(title_text=\"Weekday\",  row=row, col=col_num,dtick=1)\n",
    "    fig.update_yaxes(title_text=\"Value\", row=row, col=col_num)\n",
    "\n",
    "# Update layout\n",
    "fig.update_layout(height=800, width=1400, title_text=\"IQR - Durchschnittliche Verteilung der Werte pro Wochentag Raum E001\", showlegend=False)\n",
    "fig.show()"
   ]
  },
  {
   "cell_type": "markdown",
   "metadata": {},
   "source": [
    "# Aggregiert nach Zeit"
   ]
  },
  {
   "cell_type": "code",
   "execution_count": null,
   "metadata": {},
   "outputs": [],
   "source": [
    "columns = df.select_dtypes(include='number').iloc[:,:8].columns\n",
    "overall_outliers = {}\n",
    "for col in columns:\n",
    "    overall_outliers[col] = count_outliers(df,col)"
   ]
  },
  {
   "cell_type": "code",
   "execution_count": null,
   "metadata": {},
   "outputs": [],
   "source": [
    "\n",
    "\n",
    "\n",
    "sorted_data = {k: v for k, v in sorted(overall_outliers.items(), key=lambda item: item[1], reverse=True)}\n",
    "fig = go.Figure()\n",
    "fig.add_trace(go.Bar(\n",
    "                x=list(sorted_data.keys()), \n",
    "                y=list(sorted_data.values()),\n",
    "                marker_color='#64378C',\n",
    "                text=list(sorted_data.values()),\n",
    "                textposition='outside'))\n",
    "\n",
    "fig.update_layout(title='Ausreißerverteilung pro Feature',\n",
    "                  xaxis_title='Feature',\n",
    "                  yaxis_title='Anzahl',\n",
    "                  yaxis=dict(range=[0, 170000])\n",
    "                  )\n",
    "\n",
    "\n",
    "\n",
    "fig.show()\n"
   ]
  },
  {
   "cell_type": "code",
   "execution_count": null,
   "metadata": {},
   "outputs": [],
   "source": [
    "\n",
    "hourly_iqr = resample_dataframes(df_iqr_outliers[features],'h')\n",
    "daily_iqr = resample_dataframes(df_iqr_outliers[features],'d')\n",
    "weekly_iqr = resample_dataframes(df_iqr_outliers[features],'W')\n",
    "hourly_iso = resample_dataframes(df_iso_outliers[features],'h')\n",
    "daily_iso = resample_dataframes(df_iso_outliers[features],'d')\n",
    "weekly_iso = resample_dataframes(df_iso_outliers[features],'W')"
   ]
  },
  {
   "cell_type": "code",
   "execution_count": null,
   "metadata": {},
   "outputs": [],
   "source": [
    "resampled_iqr_dataframes = [hourly_iqr,daily_iqr,weekly_iqr]\n",
    "resampled_iso_dataframes = [hourly_iso,daily_iso,weekly_iso]"
   ]
  },
  {
   "cell_type": "code",
   "execution_count": null,
   "metadata": {},
   "outputs": [],
   "source": [
    "import plotly.graph_objects as go\n",
    "from plotly.subplots import make_subplots\n",
    "\n",
    "# Create subplots: 2 rows, 3 columns\n",
    "for df in resampled_iqr_dataframes:\n",
    "    fig = make_subplots(\n",
    "        rows=2, cols=3, \n",
    "        subplot_titles=[\n",
    "            \"CO2 over time\", \n",
    "            \"VOC over time\", \n",
    "            \"Temperature over time\", \n",
    "            \"Humidity over time\", \n",
    "            \"Visible Light over time\", \n",
    "            \"Infrared over time\"\n",
    "        ]\n",
    "    )\n",
    "\n",
    "    # Define data columns and subplot positions\n",
    "    plots_info = [\n",
    "        ('CO2', 1, 3), \n",
    "        ('VOC', 2, 1), \n",
    "        ('tmp', 1, 1), \n",
    "        ('hum', 1, 2), \n",
    "        ('vis', 2, 2), \n",
    "        ('IR', 2, 3)\n",
    "    ]\n",
    "\n",
    "    # Add traces and update axes\n",
    "    for col, row, col_num in plots_info:\n",
    "        fig.add_trace(\n",
    "            go.Scatter(x=df['date_time'], y=df[col], mode='lines', name=col),\n",
    "            row=row, col=col_num\n",
    "        )\n",
    "        fig.update_xaxes(title_text=\"Weekday\",  row=row, col=col_num)\n",
    "        fig.update_yaxes(title_text=\"Value\", row=row, col=col_num)\n",
    "\n",
    "    # Update layout\n",
    "    fig.update_layout(height=800, width=1200, title_text=\"Sensor Readings Over Time\", showlegend=False)\n",
    "    fig.show()\n",
    "\n"
   ]
  },
  {
   "cell_type": "code",
   "execution_count": null,
   "metadata": {},
   "outputs": [],
   "source": [
    "fig = go.Figure()\n",
    "fig.add_trace(go.Scatter(x=weekly_iso['date_time'],y=weekly_iso['VOC'],mode='lines'))\n",
    "fig.add_trace(go.Scatter(x=weekly_iso['date_time'],y=weekly_iso['CO2'],mode='lines'))"
   ]
  }
 ],
 "metadata": {
  "kernelspec": {
   "display_name": "Python 3",
   "language": "python",
   "name": "python3"
  },
  "language_info": {
   "codemirror_mode": {
    "name": "ipython",
    "version": 3
   },
   "file_extension": ".py",
   "mimetype": "text/x-python",
   "name": "python",
   "nbconvert_exporter": "python",
   "pygments_lexer": "ipython3",
   "version": "3.12.2"
  }
 },
 "nbformat": 4,
 "nbformat_minor": 2
}
